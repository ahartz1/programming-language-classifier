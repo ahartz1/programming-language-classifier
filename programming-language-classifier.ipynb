{
 "cells": [
  {
   "cell_type": "code",
   "execution_count": 1,
   "metadata": {
    "collapsed": true
   },
   "outputs": [],
   "source": [
    "import csv\n",
    "from lib.import_lang_data import *\n",
    "# import glob\n",
    "import numpy as np\n",
    "import pandas as pd\n",
    "import re\n",
    "from collections import Counter\n",
    "from sklearn.base import TransformerMixin\n",
    "from sklearn.cross_validation import train_test_split\n",
    "from sklearn.metrics import classification_report, confusion_matrix\n",
    "from sklearn.pipeline import make_pipeline, make_union\n",
    "from sklearn.tree import DecisionTreeClassifier\n",
    "from textblob import TextBlob"
   ]
  },
  {
   "cell_type": "code",
   "execution_count": 2,
   "metadata": {
    "collapsed": true
   },
   "outputs": [],
   "source": [
    "# def read_polyglot(extension_list):\n",
    "#     X = []\n",
    "#     y = []\n",
    "#     for extension in extension_list:\n",
    "#         files = glob.glob('data/*.{}'.format(extension))\n",
    "#         for file in files:\n",
    "#             y.append(extension)\n",
    "#             with open(file, encoding='windows-1252') as f:\n",
    "#                 X.append(f.read())\n",
    "#     return X, y"
   ]
  },
  {
   "cell_type": "code",
   "execution_count": 3,
   "metadata": {
    "collapsed": false
   },
   "outputs": [
    {
     "data": {
      "text/plain": [
       "gcc           58\n",
       "scala         43\n",
       "csharp        41\n",
       "yarv          39\n",
       "clojure       38\n",
       "python3       36\n",
       "ocaml         35\n",
       "sbcl          34\n",
       "jruby         34\n",
       "perl          34\n",
       "php           29\n",
       "racket        29\n",
       "hack          26\n",
       "javascript    25\n",
       "c              1\n",
       "dtype: int64"
      ]
     },
     "execution_count": 3,
     "metadata": {},
     "output_type": "execute_result"
    }
   ],
   "source": [
    "# read data into lang_data, lang_results\n",
    "languages = ['gcc', 'c', 'csharp', 'sbcl', 'clojure', 'ghc' 'java', 'javascript',\n",
    "             'ocaml', 'perl', 'php', 'hack', 'py', 'python3', 'jruby', 'yarv', 'rb',\n",
    "             'scala', 'racket']\n",
    "lang_data, lang_results = read_polyglot(languages)\n",
    "lang_info = pd.DataFrame(lang_results)\n",
    "lang_info[0].value_counts()"
   ]
  },
  {
   "cell_type": "code",
   "execution_count": 4,
   "metadata": {
    "collapsed": false
   },
   "outputs": [],
   "source": [
    "# def match_extensions(df):\n",
    "#     '''Match extensions with the name of their programming language\n",
    "#     '''\n",
    "#     df[0] = df[0].str.replace(r'^gcc$', 'C')\n",
    "#     df[0] = df[0].str.replace(r'^c$','C')\n",
    "#     df[0] = df[0].str.replace(r'csharp', 'C#')\n",
    "#     df[0] = df[0].str.replace(r'tcl', 'TCL')\n",
    "#     df[0] = df[0].str.replace(r'sbcl', 'Common Lisp')\n",
    "#     df[0] = df[0].str.replace(r'clojure', 'Clojure')\n",
    "#     df[0] = df[0].str.replace(r'ghc', 'Haskell')\n",
    "#     df[0] = df[0].str.replace(r'haskell', 'Haskell')\n",
    "#     df[0] = df[0].str.replace(r'javascript', 'JavaScript')\n",
    "#     df[0] = df[0].str.replace(r'java', 'Java')\n",
    "#     df[0] = df[0].str.replace(r'js', 'JavaScript')\n",
    "#     df[0] = df[0].str.replace(r'ocaml', 'OCaml')\n",
    "#     df[0] = df[0].str.replace(r'perl', 'Perl')\n",
    "#     df[0] = df[0].str.replace(r'php', 'PHP')\n",
    "#     df[0] = df[0].str.replace(r'hack', 'PHP')\n",
    "#     df[0] = df[0].str.replace(r'python3', 'Python')\n",
    "#     df[0] = df[0].str.replace(r'python', 'Python')\n",
    "#     df[0] = df[0].str.replace(r'py', 'Python')\n",
    "#     df[0] = df[0].str.replace(r'yarv', 'Ruby')\n",
    "#     df[0] = df[0].str.replace(r'rb', 'Ruby')\n",
    "#     df[0] = df[0].str.replace(r'ruby', 'Ruby')\n",
    "#     df[0] = df[0].str.replace(r'jruby', 'Ruby')\n",
    "#     df[0] = df[0].str.replace(r'yarv', 'Ruby')\n",
    "#     df[0] = df[0].str.replace(r'scala', 'Scala')\n",
    "#     df[0] = df[0].str.replace(r'racket', 'Scheme')\n",
    "#     df[0] = df[0].str.replace(r'scheme', 'Scheme')\n",
    "#     return df"
   ]
  },
  {
   "cell_type": "code",
   "execution_count": 5,
   "metadata": {
    "collapsed": false
   },
   "outputs": [
    {
     "data": {
      "text/plain": [
       "C              59\n",
       "PHP            55\n",
       "Scala          43\n",
       "C#             41\n",
       "Ruby           39\n",
       "Clojure        38\n",
       "Python         36\n",
       "OCaml          35\n",
       "jRuby          34\n",
       "Perl           34\n",
       "Common Lisp    34\n",
       "Scheme         29\n",
       "JavaScript     25\n",
       "dtype: int64"
      ]
     },
     "execution_count": 5,
     "metadata": {},
     "output_type": "execute_result"
    }
   ],
   "source": [
    "lang_info = match_extensions(lang_info)\n",
    "lang_results = list(lang_info[0])\n",
    "lang_info[0].value_counts()"
   ]
  },
  {
   "cell_type": "code",
   "execution_count": 6,
   "metadata": {
    "collapsed": true
   },
   "outputs": [],
   "source": [
    "def longest_run_of_capital_letters(text):\n",
    "    '''Find the longest run of capital letters and return their length'''\n",
    "    text = re.sub(r'\\W', '', text)\n",
    "    result = re.findall(r'[A-Z]+', text)\n",
    "    if result:\n",
    "        return len(sorted(result, key=len, reverse=True)[0])\n",
    "    return 0"
   ]
  },
  {
   "cell_type": "code",
   "execution_count": 7,
   "metadata": {
    "collapsed": false
   },
   "outputs": [],
   "source": [
    "def num_nil(text):\n",
    "    result = re.findall(r'\\W+nil\\W+', text)\n",
    "    if result:\n",
    "        return len(result)\n",
    "    else:\n",
    "        return 0"
   ]
  },
  {
   "cell_type": "code",
   "execution_count": 8,
   "metadata": {
    "collapsed": true
   },
   "outputs": [],
   "source": [
    "def percentage_of_punctuation(text):\n",
    "    total_length = len(text)\n",
    "    text = re.sub(r'[\\w\\s]', '', text)\n",
    "    punct_length = len(text)\n",
    "    \n",
    "    return punct_length / total_length"
   ]
  },
  {
   "cell_type": "code",
   "execution_count": 9,
   "metadata": {
    "collapsed": true
   },
   "outputs": [],
   "source": [
    "class FunctionFeaturizer(TransformerMixin):\n",
    "    def __init__(self, *featurizers):\n",
    "        self.featurizers = featurizers\n",
    "        \n",
    "    def fit(self, X, y=None):\n",
    "        '''All SciKit-Learn–Compatible transformers and classifiers have the same interface'''\n",
    "        return self\n",
    "    \n",
    "    def transform(self, X):\n",
    "        feature_vectors = []\n",
    "        for x in X:\n",
    "            feature_vector = [f(x) for f in self.featurizers]\n",
    "            feature_vectors.append(feature_vector)\n",
    "            \n",
    "        return np.array(feature_vectors)"
   ]
  },
  {
   "cell_type": "code",
   "execution_count": 10,
   "metadata": {
    "collapsed": true
   },
   "outputs": [],
   "source": [
    "class BagOfWordsFeaturizer(TransformerMixin):\n",
    "    def __init__(self, num_words=None):\n",
    "        self.num_words = num_words\n",
    "        \n",
    "    def fit(self, X, y=None):\n",
    "        words = []\n",
    "        for x in X:\n",
    "            x = TextBlob(x.lower())\n",
    "            words += [word.lemmatize() for word in x.words]\n",
    "        if self.num_words:\n",
    "            words = Counter(words)\n",
    "            self._vocab = [word for word, _ in words.most_common(self.num_words)]\n",
    "        else:\n",
    "            self._vocab = list(set(words))\n",
    "        return self\n",
    "    \n",
    "    def transform(self, X):\n",
    "        vectors = []\n",
    "        for x in X:\n",
    "            x = TextBlob(x.lower())\n",
    "            word_count = Counter(x.words)\n",
    "            vector = [0] * len(self._vocab)\n",
    "            for word, count in word_count.items():\n",
    "                try:\n",
    "                    idx = self._vocab.index(word)\n",
    "                    vector[idx] = count\n",
    "                except ValueError:\n",
    "                    pass\n",
    "            vectors.append(vector)\n",
    "        return vectors"
   ]
  },
  {
   "cell_type": "code",
   "execution_count": 11,
   "metadata": {
    "collapsed": false
   },
   "outputs": [
    {
     "data": {
      "text/plain": [
       "0.62698412698412698"
      ]
     },
     "execution_count": 11,
     "metadata": {},
     "output_type": "execute_result"
    }
   ],
   "source": [
    "lang_featurizer = make_union(\n",
    "    BagOfWordsFeaturizer(20),\n",
    "    FunctionFeaturizer(num_nil,\n",
    "                       percentage_of_punctuation)\n",
    ")\n",
    "\n",
    "X_train, X_test, y_train, y_test = train_test_split(lang_data, lang_results)\n",
    "\n",
    "pipe = make_pipeline(lang_featurizer, DecisionTreeClassifier())\n",
    "pipe.fit(X_train, y_train)\n",
    "pipe.score(X_test, y_test)"
   ]
  },
  {
   "cell_type": "code",
   "execution_count": 12,
   "metadata": {
    "collapsed": false
   },
   "outputs": [
    {
     "name": "stdout",
     "output_type": "stream",
     "text": [
      "             precision    recall  f1-score   support\n",
      "\n",
      "          C       0.71      0.83      0.77        12\n",
      "         C#       0.91      0.77      0.83        13\n",
      "    Clojure       0.70      0.58      0.64        12\n",
      "Common Lisp       0.62      0.71      0.67         7\n",
      " JavaScript       0.50      0.50      0.50         6\n",
      "      OCaml       0.75      1.00      0.86         3\n",
      "        PHP       0.86      0.67      0.75        18\n",
      "       Perl       0.12      0.33      0.18         3\n",
      "     Python       0.70      0.70      0.70        10\n",
      "       Ruby       0.60      0.38      0.46        16\n",
      "      Scala       0.57      0.62      0.59        13\n",
      "     Scheme       0.86      0.75      0.80         8\n",
      "      jRuby       0.10      0.20      0.13         5\n",
      "\n",
      "avg / total       0.68      0.63      0.64       126\n",
      "\n"
     ]
    }
   ],
   "source": [
    "print(classification_report(pipe.predict(X_test), y_test))"
   ]
  },
  {
   "cell_type": "markdown",
   "metadata": {},
   "source": [
    "## Now to test with the assignment tests"
   ]
  },
  {
   "cell_type": "code",
   "execution_count": 13,
   "metadata": {
    "collapsed": false
   },
   "outputs": [],
   "source": [
    "def read_tests():\n",
    "    X = []\n",
    "    y = None\n",
    "    files = glob.glob('test/*')\n",
    "    for file in files:\n",
    "        with open(file) as f:\n",
    "            X.append(f.read())\n",
    "\n",
    "    with open('test.csv') as f:\n",
    "        y = f.read()\n",
    "    \n",
    "    inter = y.split('\\n')\n",
    "    \n",
    "    y_out = []\n",
    "    for pair in inter:\n",
    "        y_out.append(pair.split(','))\n",
    "    \n",
    "    y_out = list(pd.DataFrame(y_out).pop(1))[:-1]\n",
    "    \n",
    "    y_df = match_extensions(pd.DataFrame(y_out))\n",
    "    y_out = list(y_df[0])\n",
    "    \n",
    "    return X, y_out"
   ]
  },
  {
   "cell_type": "code",
   "execution_count": 14,
   "metadata": {
    "collapsed": false
   },
   "outputs": [],
   "source": [
    "X_assignment_test, y_assignment_test = read_tests()"
   ]
  },
  {
   "cell_type": "code",
   "execution_count": 15,
   "metadata": {
    "collapsed": false
   },
   "outputs": [
    {
     "data": {
      "text/plain": [
       "0.03125"
      ]
     },
     "execution_count": 15,
     "metadata": {},
     "output_type": "execute_result"
    }
   ],
   "source": [
    "pipe.score(X_assignment_test, y_assignment_test)"
   ]
  },
  {
   "cell_type": "code",
   "execution_count": 16,
   "metadata": {
    "collapsed": false
   },
   "outputs": [
    {
     "name": "stdout",
     "output_type": "stream",
     "text": [
      "             precision    recall  f1-score   support\n",
      "\n",
      "          C       0.00      0.00      0.00         1\n",
      "    Clojure       0.00      0.00      0.00         7\n",
      "Common Lisp       0.00      0.00      0.00         2\n",
      "    Haskell       0.00      0.00      0.00         0\n",
      "       Java       0.00      0.00      0.00         0\n",
      " JavaScript       0.00      0.00      0.00         0\n",
      "      OCaml       0.00      0.00      0.00         2\n",
      "        PHP       0.00      0.00      0.00         0\n",
      "       Perl       0.00      0.00      0.00         3\n",
      "     Python       0.25      0.20      0.22         5\n",
      "       Ruby       0.00      0.00      0.00         3\n",
      "      Scala       0.00      0.00      0.00         1\n",
      "     Scheme       0.00      0.00      0.00         0\n",
      "        TCL       0.00      0.00      0.00         0\n",
      "      jRuby       0.00      0.00      0.00         8\n",
      "\n",
      "avg / total       0.04      0.03      0.03        32\n",
      "\n"
     ]
    },
    {
     "name": "stderr",
     "output_type": "stream",
     "text": [
      "/Users/ahartz1/TIY/programming-language-classifier/.direnv/python-3.4.3/lib/python3.4/site-packages/sklearn/metrics/classification.py:958: UndefinedMetricWarning: Precision and F-score are ill-defined and being set to 0.0 in labels with no predicted samples.\n",
      "  'precision', 'predicted', average, warn_for)\n",
      "/Users/ahartz1/TIY/programming-language-classifier/.direnv/python-3.4.3/lib/python3.4/site-packages/sklearn/metrics/classification.py:960: UndefinedMetricWarning: Recall and F-score are ill-defined and being set to 0.0 in labels with no true samples.\n",
      "  'recall', 'true', average, warn_for)\n"
     ]
    }
   ],
   "source": [
    "print(classification_report(pipe.predict(X_assignment_test), y_assignment_test))"
   ]
  },
  {
   "cell_type": "code",
   "execution_count": null,
   "metadata": {
    "collapsed": true
   },
   "outputs": [],
   "source": []
  }
 ],
 "metadata": {
  "kernelspec": {
   "display_name": "Python 3",
   "language": "python",
   "name": "python3"
  },
  "language_info": {
   "codemirror_mode": {
    "name": "ipython",
    "version": 3
   },
   "file_extension": ".py",
   "mimetype": "text/x-python",
   "name": "python",
   "nbconvert_exporter": "python",
   "pygments_lexer": "ipython3",
   "version": "3.4.3"
  }
 },
 "nbformat": 4,
 "nbformat_minor": 0
}
