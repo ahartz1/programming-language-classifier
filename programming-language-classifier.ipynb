{
 "cells": [
  {
   "cell_type": "code",
   "execution_count": 1,
   "metadata": {
    "collapsed": true
   },
   "outputs": [],
   "source": [
    "import csv\n",
    "import glob\n",
    "import numpy as np\n",
    "import pandas as pd\n",
    "import re\n",
    "from collections import Counter\n",
    "from sklearn.base import TransformerMixin\n",
    "from sklearn.cross_validation import train_test_split\n",
    "from sklearn.metrics import classification_report, confusion_matrix\n",
    "from sklearn.pipeline import make_pipeline, make_union\n",
    "from sklearn.tree import DecisionTreeClassifier\n",
    "from textblob import TextBlob"
   ]
  },
  {
   "cell_type": "code",
   "execution_count": 2,
   "metadata": {
    "collapsed": true
   },
   "outputs": [],
   "source": [
    "def read_polyglot(extension_list):\n",
    "    X = []\n",
    "    y = []\n",
    "    for extension in extension_list:\n",
    "        files = glob.glob('data/*.{}'.format(extension))\n",
    "        for file in files:\n",
    "            y.append(extension)\n",
    "            with open(file, encoding='windows-1252') as f:\n",
    "                X.append(f.read())\n",
    "    return X, y"
   ]
  },
  {
   "cell_type": "code",
   "execution_count": 16,
   "metadata": {
    "collapsed": false
   },
   "outputs": [],
   "source": [
    "# read data into lang_data, lang_results\n",
    "languages = ['gcc', 'c', 'csharp' 'sbcl', 'clojure', 'ghc' 'java', 'javascript',\n",
    "             'ocaml', 'perl', 'php', 'hack', 'py', 'python3', 'jruby', 'yarv', 'rb',\n",
    "             'scala', 'racket']\n",
    "lang_data, lang_results = read_polyglot(languages)\n",
    "lang_info = pd.DataFrame(lang_results)"
   ]
  },
  {
   "cell_type": "code",
   "execution_count": 93,
   "metadata": {
    "collapsed": false
   },
   "outputs": [],
   "source": [
    "def match_extensions(df):\n",
    "    '''Match extensions with the name of their programming language\n",
    "    '''\n",
    "    df = df.replace(to_replace='gcc', value='C')\n",
    "    df = df.replace(to_replace='c', value='C')\n",
    "    df = df.replace(to_replace='csharp', value='C#')\n",
    "    df = df.replace(to_replace='sbcl', value='Common Lisp')\n",
    "    df = df.replace(to_replace='clojure', value='Clojure')\n",
    "    df = df.replace(to_replace='ghc', value='Haskell')\n",
    "    df = df.replace(to_replace='haskell', value='Haskell')\n",
    "    df = df.replace(to_replace='java', value='Java')\n",
    "    df = df.replace(to_replace='javascript', value='JavaScript')\n",
    "    df = df.replace(to_replace='js', value='JavaScript')\n",
    "    df = df.replace(to_replace='ocaml', value='OCaml')\n",
    "    df = df.replace(to_replace='perl', value='Perl')\n",
    "    df = df.replace(to_replace='php', value='PHP')\n",
    "    df = df.replace(to_replace='hack', value='PHP')\n",
    "    df = df.replace(to_replace='python', value='Python')\n",
    "    df = df.replace(to_replace='python3', value='Python')\n",
    "    df = df.replace(to_replace='py', value='Python')\n",
    "    df = df.replace(to_replace='yarv', value='Ruby')\n",
    "    df = df.replace(to_replace='rb', value='Ruby')\n",
    "    df = df.replace(to_replace='ruby', value='Ruby')\n",
    "    df = df.replace(to_replace='jruby', value='Ruby')\n",
    "    df = df.replace(to_replace='yarv', value='Ruby')\n",
    "    df = df.replace(to_replace='scala', value='Scala')\n",
    "    df = df.replace(to_replace='racket', value='Scheme')\n",
    "    df = df.replace(to_replace='scheme', value='Scheme')\n",
    "    return df"
   ]
  },
  {
   "cell_type": "code",
   "execution_count": 18,
   "metadata": {
    "collapsed": false
   },
   "outputs": [
    {
     "data": {
      "text/plain": [
       "Ruby          73\n",
       "C             59\n",
       "PHP           55\n",
       "Scala         43\n",
       "Clojure       38\n",
       "Python        36\n",
       "OCaml         35\n",
       "Perl          34\n",
       "Scheme        29\n",
       "JavaScript    25\n",
       "dtype: int64"
      ]
     },
     "execution_count": 18,
     "metadata": {},
     "output_type": "execute_result"
    }
   ],
   "source": [
    "lang_info = match_extensions(lang_info)\n",
    "lang_results = list(lang_info)\n",
    "lang_info[0].value_counts()"
   ]
  },
  {
   "cell_type": "code",
   "execution_count": 6,
   "metadata": {
    "collapsed": true
   },
   "outputs": [],
   "source": [
    "def longest_run_of_capital_letters(text):\n",
    "    '''Find the longest run of capital letters and return their length'''\n",
    "    text = re.sub(r'\\W', '', text)\n",
    "    result = re.findall(r'[A-Z]+', text)\n",
    "    if result:\n",
    "        return len(sorted(result, key=len, reverse=True)[0])\n",
    "    return 0"
   ]
  },
  {
   "cell_type": "code",
   "execution_count": 7,
   "metadata": {
    "collapsed": true
   },
   "outputs": [],
   "source": [
    "def percentage_of_punctuation(text):\n",
    "    total_length = len(text)\n",
    "    text = re.sub(r'[\\w\\s]', '', text)\n",
    "    punct_length = len(text)\n",
    "    \n",
    "    return punct_length / total_length"
   ]
  },
  {
   "cell_type": "code",
   "execution_count": 8,
   "metadata": {
    "collapsed": true
   },
   "outputs": [],
   "source": [
    "class FunctionFeaturizer(TransformerMixin):\n",
    "    def __init__(self, *featurizers):\n",
    "        self.featurizers = featurizers\n",
    "        \n",
    "    def fit(self, X, y=None):\n",
    "        '''All SciKit-Learn–Compatible transformers and classifiers have the same interface'''\n",
    "        return self\n",
    "    \n",
    "    def transform(self, X):\n",
    "        feature_vectors = []\n",
    "        for x in X:\n",
    "            feature_vector = [f(x) for f in self.featurizers]\n",
    "            feature_vectors.append(feature_vector)\n",
    "            \n",
    "        return np.array(feature_vectors)"
   ]
  },
  {
   "cell_type": "code",
   "execution_count": 9,
   "metadata": {
    "collapsed": true
   },
   "outputs": [],
   "source": [
    "class BagOfWordsFeaturizer(TransformerMixin):\n",
    "    def __init__(self, num_words=None):\n",
    "        self.num_words = num_words\n",
    "        \n",
    "    def fit(self, X, y=None):\n",
    "        words = []\n",
    "        for x in X:\n",
    "            x = TextBlob(x.lower())\n",
    "            words += [word.lemmatize() for word in x.words]\n",
    "        if self.num_words:\n",
    "            words = Counter(words)\n",
    "            self._vocab = [word for word, _ in words.most_common(self.num_words)]\n",
    "        else:\n",
    "            self._vocab = list(set(words))\n",
    "        return self\n",
    "    \n",
    "    def transform(self, X):\n",
    "        vectors = []\n",
    "        for x in X:\n",
    "            x = TextBlob(x.lower())\n",
    "            word_count = Counter(x.words)\n",
    "            vector = [0] * len(self._vocab)\n",
    "            for word, count in word_count.items():\n",
    "                try:\n",
    "                    idx = self._vocab.index(word)\n",
    "                    vector[idx] = count\n",
    "                except ValueError:\n",
    "                    pass\n",
    "            vectors.append(vector)\n",
    "        return vectors"
   ]
  },
  {
   "cell_type": "code",
   "execution_count": 10,
   "metadata": {
    "collapsed": false
   },
   "outputs": [
    {
     "data": {
      "text/plain": [
       "0.79439252336448596"
      ]
     },
     "execution_count": 10,
     "metadata": {},
     "output_type": "execute_result"
    }
   ],
   "source": [
    "lang_featurizer = make_union(\n",
    "    BagOfWordsFeaturizer(20),\n",
    "    FunctionFeaturizer(percentage_of_punctuation)\n",
    ")\n",
    "\n",
    "X_train, X_test, y_train, y_test = train_test_split(lang_data, lang_results)\n",
    "\n",
    "pipe = make_pipeline(lang_featurizer, DecisionTreeClassifier())\n",
    "pipe.fit(X_train, y_train)\n",
    "pipe.score(X_test, y_test)"
   ]
  },
  {
   "cell_type": "code",
   "execution_count": 11,
   "metadata": {
    "collapsed": false
   },
   "outputs": [
    {
     "name": "stdout",
     "output_type": "stream",
     "text": [
      "             precision    recall  f1-score   support\n",
      "\n",
      "          C       0.71      1.00      0.83        10\n",
      "    Clojure       0.75      0.86      0.80         7\n",
      " JavaScript       0.50      0.50      0.50         4\n",
      "      OCaml       0.73      0.89      0.80         9\n",
      "        PHP       0.71      0.59      0.65        17\n",
      "       Perl       0.50      0.57      0.53         7\n",
      "     Python       0.78      0.88      0.82         8\n",
      "       Ruby       1.00      0.91      0.95        22\n",
      "      Scala       1.00      0.76      0.87        17\n",
      "     Scheme       0.83      0.83      0.83         6\n",
      "\n",
      "avg / total       0.81      0.79      0.80       107\n",
      "\n"
     ]
    }
   ],
   "source": [
    "print(classification_report(pipe.predict(X_test), y_test))"
   ]
  },
  {
   "cell_type": "code",
   "execution_count": 99,
   "metadata": {
    "collapsed": false
   },
   "outputs": [],
   "source": [
    "def read_tests():\n",
    "    X = []\n",
    "    y = None\n",
    "    files = glob.glob('test/*')\n",
    "    for file in files:\n",
    "        with open(file) as f:\n",
    "            X.append(f.read())\n",
    "\n",
    "    with open('test.csv') as f:\n",
    "        y = f.read()\n",
    "    \n",
    "    inter = y.split('\\n')\n",
    "    \n",
    "    y_out = []\n",
    "    for pair in inter:\n",
    "        y_out.append(pair.split(','))\n",
    "    \n",
    "    y_out = list(pd.DataFrame(y_out).pop(1))[:-1]\n",
    "    \n",
    "    y_df = match_extensions(pd.DataFrame(y_out))\n",
    "    y_out = list(y_df[0])\n",
    "    \n",
    "    return X, y_out"
   ]
  },
  {
   "cell_type": "code",
   "execution_count": 100,
   "metadata": {
    "collapsed": false
   },
   "outputs": [],
   "source": [
    "X_assignment_test, y_assignment_test = read_tests()"
   ]
  },
  {
   "cell_type": "code",
   "execution_count": 101,
   "metadata": {
    "collapsed": false
   },
   "outputs": [
    {
     "data": {
      "text/plain": [
       "32"
      ]
     },
     "execution_count": 101,
     "metadata": {},
     "output_type": "execute_result"
    }
   ],
   "source": [
    "len(X_assignment_test)"
   ]
  },
  {
   "cell_type": "code",
   "execution_count": 102,
   "metadata": {
    "collapsed": false
   },
   "outputs": [
    {
     "data": {
      "text/plain": [
       "['Clojure',\n",
       " 'Clojure',\n",
       " 'Clojure',\n",
       " 'Clojure',\n",
       " 'Python',\n",
       " 'Python',\n",
       " 'Python',\n",
       " 'Python',\n",
       " 'JavaScript',\n",
       " 'JavaScript',\n",
       " 'JavaScript',\n",
       " 'JavaScript',\n",
       " 'Ruby',\n",
       " 'Ruby',\n",
       " 'Ruby',\n",
       " 'Haskell',\n",
       " 'Haskell',\n",
       " 'Haskell',\n",
       " 'Scheme',\n",
       " 'Scheme',\n",
       " 'Scheme',\n",
       " 'Java',\n",
       " 'Java',\n",
       " 'Scala',\n",
       " 'Scala',\n",
       " 'tcl',\n",
       " 'tcl',\n",
       " 'PHP',\n",
       " 'PHP',\n",
       " 'PHP',\n",
       " 'OCaml',\n",
       " 'OCaml']"
      ]
     },
     "execution_count": 102,
     "metadata": {},
     "output_type": "execute_result"
    }
   ],
   "source": [
    "y_assignment_test"
   ]
  },
  {
   "cell_type": "code",
   "execution_count": 103,
   "metadata": {
    "collapsed": false
   },
   "outputs": [
    {
     "data": {
      "text/plain": [
       "0.125"
      ]
     },
     "execution_count": 103,
     "metadata": {},
     "output_type": "execute_result"
    }
   ],
   "source": [
    "pipe.score(X_assignment_test, y_assignment_test)"
   ]
  },
  {
   "cell_type": "code",
   "execution_count": 104,
   "metadata": {
    "collapsed": false
   },
   "outputs": [
    {
     "name": "stdout",
     "output_type": "stream",
     "text": [
      "             precision    recall  f1-score   support\n",
      "\n",
      "    Clojure       0.25      0.50      0.33         2\n",
      "    Haskell       0.00      0.00      0.00         0\n",
      "       Java       0.00      0.00      0.00         0\n",
      " JavaScript       0.00      0.00      0.00         1\n",
      "      OCaml       0.00      0.00      0.00         1\n",
      "        PHP       0.00      0.00      0.00         0\n",
      "       Perl       0.00      0.00      0.00         2\n",
      "     Python       0.25      0.14      0.18         7\n",
      "       Ruby       0.67      0.12      0.20        17\n",
      "      Scala       0.00      0.00      0.00         1\n",
      "     Scheme       0.00      0.00      0.00         1\n",
      "        tcl       0.00      0.00      0.00         0\n",
      "\n",
      "avg / total       0.42      0.12      0.17        32\n",
      "\n"
     ]
    },
    {
     "name": "stderr",
     "output_type": "stream",
     "text": [
      "/Users/ahartz1/TIY/programming-language-classifier/.direnv/python-3.4.3/lib/python3.4/site-packages/sklearn/metrics/classification.py:958: UndefinedMetricWarning: Precision and F-score are ill-defined and being set to 0.0 in labels with no predicted samples.\n",
      "  'precision', 'predicted', average, warn_for)\n",
      "/Users/ahartz1/TIY/programming-language-classifier/.direnv/python-3.4.3/lib/python3.4/site-packages/sklearn/metrics/classification.py:960: UndefinedMetricWarning: Recall and F-score are ill-defined and being set to 0.0 in labels with no true samples.\n",
      "  'recall', 'true', average, warn_for)\n"
     ]
    }
   ],
   "source": [
    "print(classification_report(pipe.predict(X_assignment_test), y_assignment_test))"
   ]
  },
  {
   "cell_type": "code",
   "execution_count": null,
   "metadata": {
    "collapsed": true
   },
   "outputs": [],
   "source": []
  }
 ],
 "metadata": {
  "kernelspec": {
   "display_name": "Python 3",
   "language": "python",
   "name": "python3"
  },
  "language_info": {
   "codemirror_mode": {
    "name": "ipython",
    "version": 3
   },
   "file_extension": ".py",
   "mimetype": "text/x-python",
   "name": "python",
   "nbconvert_exporter": "python",
   "pygments_lexer": "ipython3",
   "version": "3.4.3"
  }
 },
 "nbformat": 4,
 "nbformat_minor": 0
}
