{
 "cells": [
  {
   "cell_type": "code",
   "execution_count": 1,
   "metadata": {
    "collapsed": true
   },
   "outputs": [],
   "source": [
    "import csv\n",
    "import glob\n",
    "import numpy as np\n",
    "import pandas as pd\n",
    "import re\n",
    "from collections import Counter\n",
    "from sklearn.base import TransformerMixin\n",
    "from sklearn.cross_validation import train_test_split\n",
    "from sklearn.metrics import classification_report, confusion_matrix\n",
    "from sklearn.pipeline import make_pipeline, make_union\n",
    "from sklearn.tree import DecisionTreeClassifier\n",
    "from textblob import TextBlob"
   ]
  },
  {
   "cell_type": "code",
   "execution_count": 2,
   "metadata": {
    "collapsed": true
   },
   "outputs": [],
   "source": [
    "def read_polyglot(extension_list):\n",
    "    X = []\n",
    "    y = []\n",
    "    for extension in extension_list:\n",
    "        files = glob.glob('data/*.{}'.format(extension))\n",
    "        for file in files:\n",
    "            y.append(extension)\n",
    "            with open(file, encoding='windows-1252') as f:\n",
    "                X.append(f.read())\n",
    "    return X, y"
   ]
  },
  {
   "cell_type": "code",
   "execution_count": 3,
   "metadata": {
    "collapsed": false
   },
   "outputs": [],
   "source": [
    "# read data into lang_data, lang_results\n",
    "languages = ['gcc', 'c', 'csharp' 'sbcl', 'clojure', 'ghc' 'java', 'javascript',\n",
    "             'ocaml', 'perl', 'php', 'hack', 'py', 'python3', 'jruby', 'yarv', 'rb',\n",
    "             'scala', 'racket']\n",
    "lang_data, lang_results = read_polyglot(languages)"
   ]
  },
  {
   "cell_type": "code",
   "execution_count": 4,
   "metadata": {
    "collapsed": false
   },
   "outputs": [],
   "source": [
    "# Match extensions with the name of their programming language\n",
    "lang_info = pd.DataFrame(lang_results)\n",
    "lang_info = lang_info.replace(to_replace='gcc', value='C')\n",
    "lang_info = lang_info.replace(to_replace='c', value='C')\n",
    "lang_info = lang_info.replace(to_replace='csharp', value='C#')\n",
    "lang_info = lang_info.replace(to_replace='sbcl', value='Common Lisp')\n",
    "lang_info = lang_info.replace(to_replace='clojure', value='Clojure')\n",
    "lang_info = lang_info.replace(to_replace='ghc', value='Haskell')\n",
    "lang_info = lang_info.replace(to_replace='java', value='Java')\n",
    "lang_info = lang_info.replace(to_replace='javascript', value='JavaScript')\n",
    "lang_info = lang_info.replace(to_replace='js', value='JavaScript')\n",
    "lang_info = lang_info.replace(to_replace='ocaml', value='OCaml')\n",
    "lang_info = lang_info.replace(to_replace='perl', value='Perl')\n",
    "lang_info = lang_info.replace(to_replace='php', value='PHP')\n",
    "lang_info = lang_info.replace(to_replace='hack', value='PHP')\n",
    "lang_info = lang_info.replace(to_replace='python3', value='Python')\n",
    "lang_info = lang_info.replace(to_replace='py', value='Python')\n",
    "lang_info = lang_info.replace(to_replace='yarv', value='Ruby')\n",
    "lang_info = lang_info.replace(to_replace='rb', value='Ruby')\n",
    "lang_info = lang_info.replace(to_replace='jruby', value='Ruby')\n",
    "lang_info = lang_info.replace(to_replace='yarv', value='Ruby')\n",
    "lang_info = lang_info.replace(to_replace='scala', value='Scala')\n",
    "lang_info = lang_info.replace(to_replace='racket', value='Scheme')"
   ]
  },
  {
   "cell_type": "code",
   "execution_count": 5,
   "metadata": {
    "collapsed": false
   },
   "outputs": [
    {
     "data": {
      "text/plain": [
       "Ruby          73\n",
       "C             59\n",
       "PHP           55\n",
       "Scala         43\n",
       "Clojure       38\n",
       "Python        36\n",
       "OCaml         35\n",
       "Perl          34\n",
       "Scheme        29\n",
       "JavaScript    25\n",
       "dtype: int64"
      ]
     },
     "execution_count": 5,
     "metadata": {},
     "output_type": "execute_result"
    }
   ],
   "source": [
    "lang_results = list(lang_info[0])\n",
    "lang_info[0].value_counts()"
   ]
  },
  {
   "cell_type": "code",
   "execution_count": 6,
   "metadata": {
    "collapsed": true
   },
   "outputs": [],
   "source": [
    "def longest_run_of_capital_letters(text):\n",
    "    '''Find the longest run of capital letters and return their length'''\n",
    "    text = re.sub(r'\\W', '', text)\n",
    "    result = re.findall(r'[A-Z]+', text)\n",
    "    if result:\n",
    "        return len(sorted(result, key=len, reverse=True)[0])\n",
    "    return 0"
   ]
  },
  {
   "cell_type": "code",
   "execution_count": 7,
   "metadata": {
    "collapsed": true
   },
   "outputs": [],
   "source": [
    "def percentage_of_punctuation(text):\n",
    "    total_length = len(text)\n",
    "    text = re.sub(r'[\\w\\s]', '', text)\n",
    "    punct_length = len(text)\n",
    "    \n",
    "    return punct_length / total_length"
   ]
  },
  {
   "cell_type": "code",
   "execution_count": 8,
   "metadata": {
    "collapsed": true
   },
   "outputs": [],
   "source": [
    "class FunctionFeaturizer(TransformerMixin):\n",
    "    def __init__(self, *featurizers):\n",
    "        self.featurizers = featurizers\n",
    "        \n",
    "    def fit(self, X, y=None):\n",
    "        '''All SciKit-Learn–Compatible transformers and classifiers have the same interface'''\n",
    "        return self\n",
    "    \n",
    "    def transform(self, X):\n",
    "        feature_vectors = []\n",
    "        for x in X:\n",
    "            feature_vector = [f(x) for f in self.featurizers]\n",
    "            feature_vectors.append(feature_vector)\n",
    "            \n",
    "        return np.array(feature_vectors)"
   ]
  },
  {
   "cell_type": "code",
   "execution_count": 9,
   "metadata": {
    "collapsed": true
   },
   "outputs": [],
   "source": [
    "class BagOfWordsFeaturizer(TransformerMixin):\n",
    "    def __init__(self, num_words=None):\n",
    "        self.num_words = num_words\n",
    "        \n",
    "    def fit(self, X, y=None):\n",
    "        words = []\n",
    "        for x in X:\n",
    "            x = TextBlob(x.lower())\n",
    "            words += [word.lemmatize() for word in x.words]\n",
    "        if self.num_words:\n",
    "            words = Counter(words)\n",
    "            self._vocab = [word for word, _ in words.most_common(self.num_words)]\n",
    "        else:\n",
    "            self._vocab = list(set(words))\n",
    "        return self\n",
    "    \n",
    "    def transform(self, X):\n",
    "        vectors = []\n",
    "        for x in X:\n",
    "            x = TextBlob(x.lower())\n",
    "            word_count = Counter(x.words)\n",
    "            vector = [0] * len(self._vocab)\n",
    "            for word, count in word_count.items():\n",
    "                try:\n",
    "                    idx = self._vocab.index(word)\n",
    "                    vector[idx] = count\n",
    "                except ValueError:\n",
    "                    pass\n",
    "            vectors.append(vector)\n",
    "        return vectors"
   ]
  },
  {
   "cell_type": "code",
   "execution_count": 10,
   "metadata": {
    "collapsed": false
   },
   "outputs": [
    {
     "data": {
      "text/plain": [
       "0.79439252336448596"
      ]
     },
     "execution_count": 10,
     "metadata": {},
     "output_type": "execute_result"
    }
   ],
   "source": [
    "lang_featurizer = make_union(\n",
    "    BagOfWordsFeaturizer(20),\n",
    "    FunctionFeaturizer(percentage_of_punctuation)\n",
    ")\n",
    "\n",
    "X_train, X_test, y_train, y_test = train_test_split(lang_data, lang_results)\n",
    "\n",
    "pipe = make_pipeline(lang_featurizer, DecisionTreeClassifier())\n",
    "pipe.fit(X_train, y_train)\n",
    "pipe.score(X_test, y_test)"
   ]
  },
  {
   "cell_type": "code",
   "execution_count": 11,
   "metadata": {
    "collapsed": false
   },
   "outputs": [
    {
     "name": "stdout",
     "output_type": "stream",
     "text": [
      "             precision    recall  f1-score   support\n",
      "\n",
      "          C       0.71      1.00      0.83        10\n",
      "    Clojure       0.75      0.86      0.80         7\n",
      " JavaScript       0.50      0.50      0.50         4\n",
      "      OCaml       0.73      0.89      0.80         9\n",
      "        PHP       0.71      0.59      0.65        17\n",
      "       Perl       0.50      0.57      0.53         7\n",
      "     Python       0.78      0.88      0.82         8\n",
      "       Ruby       1.00      0.91      0.95        22\n",
      "      Scala       1.00      0.76      0.87        17\n",
      "     Scheme       0.83      0.83      0.83         6\n",
      "\n",
      "avg / total       0.81      0.79      0.80       107\n",
      "\n"
     ]
    }
   ],
   "source": [
    "print(classification_report(pipe.predict(X_test), y_test))"
   ]
  },
  {
   "cell_type": "code",
   "execution_count": null,
   "metadata": {
    "collapsed": true
   },
   "outputs": [],
   "source": []
  }
 ],
 "metadata": {
  "kernelspec": {
   "display_name": "Python 3",
   "language": "python",
   "name": "python3"
  },
  "language_info": {
   "codemirror_mode": {
    "name": "ipython",
    "version": 3
   },
   "file_extension": ".py",
   "mimetype": "text/x-python",
   "name": "python",
   "nbconvert_exporter": "python",
   "pygments_lexer": "ipython3",
   "version": "3.4.3"
  }
 },
 "nbformat": 4,
 "nbformat_minor": 0
}
