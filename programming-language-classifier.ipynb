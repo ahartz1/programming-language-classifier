{
 "cells": [
  {
   "cell_type": "code",
   "execution_count": null,
   "metadata": {
    "collapsed": false
   },
   "outputs": [],
   "source": [
    "from bs4 import BeautifulSoup\n",
    "from lib.import_lang_data import *\n",
    "from lib.lang_featurizers import *\n",
    "from sklearn.cross_validation import train_test_split\n",
    "from sklearn.metrics import classification_report, confusion_matrix\n",
    "from sklearn.pipeline import make_pipeline, make_union\n",
    "from sklearn.tree import DecisionTreeClassifier"
   ]
  },
  {
   "cell_type": "code",
   "execution_count": null,
   "metadata": {
    "collapsed": false
   },
   "outputs": [],
   "source": [
    "# read in assignment's test files\n",
    "X_assignment_test, y_assignment_test = read_tests()\n",
    "\n",
    "# read corpus into lang_data, lang_results\n",
    "languages = ['gcc', 'c', 'csharp', 'sbcl', 'clojure', 'ghc' 'java', 'javascript',\n",
    "             'ocaml', 'perl', 'php', 'hack', 'py', 'python3', 'jruby', 'yarv', 'rb',\n",
    "             'scala', 'racket']\n",
    "lang_data, lang_results = read_polyglot(languages)\n",
    "lang_info = pd.DataFrame(lang_results)\n",
    "lang_info[0].value_counts()"
   ]
  },
  {
   "cell_type": "code",
   "execution_count": null,
   "metadata": {
    "collapsed": false
   },
   "outputs": [],
   "source": [
    "lang_info = match_extensions(lang_info)\n",
    "lang_results = list(lang_info[0])\n",
    "lang_info[0].value_counts()"
   ]
  },
  {
   "cell_type": "code",
   "execution_count": null,
   "metadata": {
    "collapsed": false
   },
   "outputs": [],
   "source": [
    "lang_featurizer = make_union(\n",
    "    BagOfWordsFeaturizer(52),\n",
    "    FunctionFeaturizer(presence_nil,\n",
    "                       presence_nil_caps,\n",
    "                       presence_null,\n",
    "                       presence_none,\n",
    "#                        presence_start_double_semicolons,\n",
    "#                        presence_start_hashes,\n",
    "#                        presence_bar_hash,\n",
    "                       presence_paren_define,\n",
    "                       percent_start_and_end_parenthesis,\n",
    "                       longest_run_of_parenthesis,\n",
    "                       longest_run_of_curly_braces,\n",
    "                       single_closing_braces_per_line,\n",
    "                       presence_function_js,\n",
    "                       presence_while,\n",
    "                       presence_do,\n",
    "                       presence_var,\n",
    "                       presence_for_js,\n",
    "#                        final_semicolons_per_line,\n",
    "                       presence_void,\n",
    "                       presence_public,\n",
    "                       presence_bool,\n",
    "                       presence_int,\n",
    "                       presence_module_line,\n",
    "                       presence_extend_line,\n",
    "                       presence_require_line,\n",
    "                       presence_end,\n",
    "                       presence_multiple_end,\n",
    "                       presence_def_no_colon,\n",
    "                       presence_at,\n",
    "                       presence_double_at,\n",
    "                       presence_puts,\n",
    "                       presence_dot_times,\n",
    "                       presence_paren_defn,\n",
    "                       presence_paren_ns,\n",
    "                       percent_consecutive_closing_paren,\n",
    "                       presence_taskloop,\n",
    "                       presence_runtask,\n",
    "                       presence_from_import_line,\n",
    "                       presence_import_line,\n",
    "                       presence_print_paren,\n",
    "                       presence_dot_join,\n",
    "                       presence_dot_format,\n",
    "                       presence_dot_values,\n",
    "                       presence_dunder_name,\n",
    "                       presence_dunder_init,\n",
    "                       presence_def_colon,\n",
    "                       \n",
    "                       )\n",
    ")\n",
    "\n",
    "X_train, X_test, y_train, y_test = train_test_split(lang_data, lang_results)\n",
    "\n",
    "pipe = make_pipeline(lang_featurizer, DecisionTreeClassifier())\n",
    "pipe.fit(X_train, y_train)\n",
    "print('R^2 score: {}\\n'.format(pipe.score(X_test, y_test)))\n",
    "print(classification_report(y_test, pipe.predict(X_test)))"
   ]
  },
  {
   "cell_type": "markdown",
   "metadata": {},
   "source": [
    "## Now to test with the assignment's tests"
   ]
  },
  {
   "cell_type": "code",
   "execution_count": null,
   "metadata": {
    "collapsed": false
   },
   "outputs": [],
   "source": [
    "print('R^2 score: {}\\n'.format(pipe.score(X_assignment_test, y_assignment_test)))\n",
    "print(classification_report(y_assignment_test, pipe.predict(X_assignment_test)))\n",
    "print(confusion_matrix(y_assignment_test, pipe.predict(X_assignment_test)))"
   ]
  }
 ],
 "metadata": {
  "kernelspec": {
   "display_name": "Python 3",
   "language": "python",
   "name": "python3"
  },
  "language_info": {
   "codemirror_mode": {
    "name": "ipython",
    "version": 3
   },
   "file_extension": ".py",
   "mimetype": "text/x-python",
   "name": "python",
   "nbconvert_exporter": "python",
   "pygments_lexer": "ipython3",
   "version": "3.4.3"
  }
 },
 "nbformat": 4,
 "nbformat_minor": 0
}
