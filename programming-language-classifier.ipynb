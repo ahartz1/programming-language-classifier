{
 "cells": [
  {
   "cell_type": "code",
   "execution_count": 11,
   "metadata": {
    "collapsed": true
   },
   "outputs": [],
   "source": [
    "import csv\n",
    "import glob\n",
    "import numpy as np\n",
    "import re\n",
    "from collections import Counter\n",
    "from sklearn.base import TransformerMixin\n",
    "from sklearn.cross_validation import train_test_split\n",
    "from sklearn.metrics import classification_report, confusion_matrix\n",
    "from sklearn.pipeline import make_pipeline, make_union\n",
    "from sklearn.tree import DecisionTreeClassifier\n",
    "from textblob import TextBlob"
   ]
  },
  {
   "cell_type": "code",
   "execution_count": 44,
   "metadata": {
    "collapsed": true
   },
   "outputs": [],
   "source": [
    "def read_polyglot(extension_list):\n",
    "    for extension in extension_list:\n",
    "        files = glob.glob('data/*.{}'.format(extension))\n",
    "        X = []\n",
    "        y = []\n",
    "        for file in files:\n",
    "            y.append(extension)\n",
    "            with open(file, encoding='windows-1252') as f:\n",
    "                X.append(f.read())\n",
    "    return X, y"
   ]
  },
  {
   "cell_type": "code",
   "execution_count": 45,
   "metadata": {
    "collapsed": false
   },
   "outputs": [],
   "source": [
    "# read data into lang_data, lang_results\n",
    "languages = ['gcc', 'c', 'csharp' 'sbcl', 'clojure', 'ghc' 'java', 'javascript',\n",
    "             'ocaml', 'perl', 'php', 'hack', 'py', 'python3', 'jruby', 'yarv', 'rb',\n",
    "             'scala', 'racket']\n",
    "lang_data, lang_results = read_polyglot(languages)"
   ]
  },
  {
   "cell_type": "code",
   "execution_count": 48,
   "metadata": {
    "collapsed": false
   },
   "outputs": [
    {
     "name": "stdout",
     "output_type": "stream",
     "text": [
      "['#lang racket/base\\n\\n;;; The Computer Language Benchmarks Game\\n;;; http://benchmarksgame.alioth.debian.org/\\n\\n;;; Derived from the Chicken variant by Sven Hartrumpf\\n;;; contributed by Matthew Flatt\\n\\n(require racket/cmdline)\\n\\n(struct node (left val right))\\n\\n;; Instead of (define-struct leaf (val)):\\n(define (leaf val) (node #f val #f))\\n(define (leaf? l) (not (node-left l)))\\n(define (leaf-val l) (node-val l))\\n\\n(define (make item d)\\n  (if (= d 0)\\n      (leaf item)\\n      (let ((item2 (* item 2))\\n            (d2 (- d 1)))\\n        (node (make (- item2 1) d2) \\n              item \\n              (make item2 d2)))))\\n\\n(define (check t)\\n  (if (leaf? t)\\n      (leaf-val t)\\n      (+ (node-val t) (- (check (node-left t)) \\n                         (check (node-right t))))))\\n\\n(define (main n)\\n  (let* ((min-depth 4)\\n         (max-depth (max (+ min-depth 2) n)))\\n    (let ((stretch-depth (+ max-depth 1)))\\n      (printf \"stretch tree of depth ~a\\\\t check: ~a\\\\n\"\\n              stretch-depth\\n              (check (make 0 stretch-depth))))\\n    (let ((long-lived-tree (make 0 max-depth)))\\n      (for ((d (in-range 4 (add1 max-depth) 2)))\\n        (let ((iterations (arithmetic-shift 1 (+ (- max-depth d) min-depth))))\\n          (printf \"~a\\\\t trees of depth ~a\\\\t check: ~a\\\\n\"\\n                  (* 2 iterations)\\n                  d\\n                  (for/fold ([c 0])\\n                            ([i (in-range iterations)])\\n                    (+ c \\n                       (check (make i d)) \\n                       (check (make (- i) d)))))))\\n      (printf \"long lived tree of depth ~a\\\\t check: ~a\\\\n\"\\n              max-depth\\n              (check long-lived-tree)))))\\n\\n(command-line #:args (n) \\n              (main (string->number n)))\\n']\n",
      "['racket']\n"
     ]
    }
   ],
   "source": [
    "print(lang_data[:1])\n",
    "print(lang_results[:1])"
   ]
  },
  {
   "cell_type": "code",
   "execution_count": 6,
   "metadata": {
    "collapsed": true
   },
   "outputs": [],
   "source": [
    "def longest_run_of_capital_letters(text):\n",
    "    '''Find the longest run of capital letters and return their length'''\n",
    "    text = re.sub(r'\\W', '', text)\n",
    "    result = re.findall(r'[A-Z]+', text)\n",
    "    if result:\n",
    "        return len(sorted(result, key=len, reverse=True)[0])\n",
    "    return 0"
   ]
  },
  {
   "cell_type": "code",
   "execution_count": 7,
   "metadata": {
    "collapsed": true
   },
   "outputs": [],
   "source": [
    "def percentage_of_punctuation(text):\n",
    "    total_length = len(text)\n",
    "    text = re.sub(r'[\\w\\s]', '', text)\n",
    "    punct_length = len(text)\n",
    "    \n",
    "    return punct_length / total_length"
   ]
  },
  {
   "cell_type": "code",
   "execution_count": 3,
   "metadata": {
    "collapsed": true
   },
   "outputs": [],
   "source": [
    "class FunctionFeaturizer(TransformerMixin):\n",
    "    def __init__(self, *featurizers):\n",
    "        self.featurizers = featurizers\n",
    "        \n",
    "    def fit(self, X, y=None):\n",
    "        '''All SciKit-Learn–Compatible transformers and classifiers have the same interface'''\n",
    "        return self\n",
    "    \n",
    "    def transform(self, X):\n",
    "        feature_vectors = []\n",
    "        for x in X:\n",
    "            feature_vector = [f(x) for f in self.featurizers]\n",
    "            feature_vectors.append(feature_vector)\n",
    "            \n",
    "        return np.array(feature_vectors)"
   ]
  },
  {
   "cell_type": "code",
   "execution_count": 4,
   "metadata": {
    "collapsed": true
   },
   "outputs": [],
   "source": [
    "class BagOfWordsFeaturizer(TransformerMixin):\n",
    "    def __init__(self, num_words=None):\n",
    "        self.num_words = num_words\n",
    "        \n",
    "    def fit(self, X, y=None):\n",
    "        words = []\n",
    "        for x in X:\n",
    "            x = TextBlob(x.lower())\n",
    "            words += [word.lemmatize() for word in x.words]\n",
    "        if self.num_words:\n",
    "            words = Counter(words)\n",
    "            self._vocab = [word for word, _ in words.most_common(self.num_words)]\n",
    "        else:\n",
    "            self._vocab = list(set(words))\n",
    "        return self\n",
    "    \n",
    "    def transform(self, X):\n",
    "        vectors = []\n",
    "        for x in X:\n",
    "            x = TextBlob(x.lower())\n",
    "            word_count = Counter(x.words)\n",
    "            vector = [0] * len(self._vocab)\n",
    "            for word, count in word_count.items():\n",
    "                try:\n",
    "                    idx = self._vocab.index(word)\n",
    "                    vector[idx] = count\n",
    "                except ValueError:\n",
    "                    pass\n",
    "            vectors.append(vector)\n",
    "        return vectors"
   ]
  },
  {
   "cell_type": "code",
   "execution_count": null,
   "metadata": {
    "collapsed": true
   },
   "outputs": [],
   "source": [
    "lang_featurizer = make_union(\n",
    "    BagOfWordsFeaturizer(20),\n",
    "    FunctionFeaturizer(len,\n",
    "                       longest_run_of_capital_letters,\n",
    "                       percentage_of_punctuation)\n",
    ")\n",
    "\n",
    "X_train, X_test, y_train, y_test = train_test_split(lang_data, lang_results)\n",
    "\n",
    "pipe = make_pipeline(lang_featurizer, DecisionTreeClassifier())\n",
    "pipe.fit(X_train, y_train)\n",
    "pipe.score(X_test, y_test)"
   ]
  },
  {
   "cell_type": "code",
   "execution_count": null,
   "metadata": {
    "collapsed": true
   },
   "outputs": [],
   "source": [
    "print(classification_report(pipe.predict(X_test), y_test))"
   ]
  }
 ],
 "metadata": {
  "kernelspec": {
   "display_name": "Python 3",
   "language": "python",
   "name": "python3"
  },
  "language_info": {
   "codemirror_mode": {
    "name": "ipython",
    "version": 3
   },
   "file_extension": ".py",
   "mimetype": "text/x-python",
   "name": "python",
   "nbconvert_exporter": "python",
   "pygments_lexer": "ipython3",
   "version": "3.4.3"
  }
 },
 "nbformat": 4,
 "nbformat_minor": 0
}
